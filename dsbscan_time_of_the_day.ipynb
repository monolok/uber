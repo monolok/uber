{
 "cells": [
  {
   "cell_type": "code",
   "execution_count": null,
   "metadata": {},
   "outputs": [],
   "source": [
    "import pandas as pd\n",
    "import plotly.express as px\n",
    "from sklearn.cluster import DBSCAN"
   ]
  },
  {
   "cell_type": "code",
   "execution_count": null,
   "metadata": {},
   "outputs": [],
   "source": [
    "afternoon_df = pd.read_csv('/Users/antoinebertin/Documents/jedha/full_stack/projects_full_stack/uber/db2/afternoon_df.csv') \n",
    "early_evening_df = pd.read_csv('/Users/antoinebertin/Documents/jedha/full_stack/projects_full_stack/uber/db2/early_evening_df.csv')\n",
    "late_evening_df = pd.read_csv('/Users/antoinebertin/Documents/jedha/full_stack/projects_full_stack/uber/db2/late_evening_df.csv')\n",
    "morning_df = pd.read_csv('/Users/antoinebertin/Documents/jedha/full_stack/projects_full_stack/uber/db2/morning_df.csv')\n",
    "night_df = pd.read_csv('/Users/antoinebertin/Documents/jedha/full_stack/projects_full_stack/uber/db2/night_df.csv')"
   ]
  },
  {
   "cell_type": "code",
   "execution_count": null,
   "metadata": {},
   "outputs": [],
   "source": [
    "afternoon_X = afternoon_df[['Lat', 'Lon']].astype('float32')\n",
    "early_evening_X = early_evening_df[['Lat', 'Lon']].astype('float32')\n",
    "late_evening_X = late_evening_df[['Lat', 'Lon']].astype('float32')\n",
    "morning_X = morning_df[['Lat', 'Lon']].astype('float32')\n",
    "night_X = night_df[['Lat', 'Lon']].astype('float32')"
   ]
  },
  {
   "cell_type": "code",
   "execution_count": null,
   "metadata": {},
   "outputs": [],
   "source": [
    "afternoon_X = afternoon_X.sample(frac=0.3, random_state=42)\n",
    "early_evening_X = early_evening_X.sample(frac=0.3, random_state=42)\n",
    "late_evening_X = late_evening_X.sample(frac=0.3, random_state=42)\n",
    "morning_X = morning_X.sample(frac=0.3, random_state=42)\n",
    "night_X = night_X.sample(frac=0.3, random_state=42)"
   ]
  },
  {
   "cell_type": "markdown",
   "metadata": {},
   "source": [
    "# DEF"
   ]
  },
  {
   "cell_type": "code",
   "execution_count": null,
   "metadata": {},
   "outputs": [],
   "source": [
    "def process_and_plot_dbscan(sampled_df, day_name):\n",
    "    custom_color_scale = [\n",
    "    [0, 'rgb(30,144,255)'],\n",
    "    [0.05, 'rgb(255,165,0)'],   # Orange for mid-density\n",
    "    [0.1, 'rgb(255,69,0)'],    # Red-orange\n",
    "    [1, 'rgb(220,20,60)']     # Red color for highest density\n",
    "    ]\n",
    "    # Perform DBSCAN\n",
    "    dbscan = DBSCAN(eps=0.0008, min_samples=50, metric=\"manhattan\", algorithm=\"kd_tree\", n_jobs=-1).fit(sampled_df[['Lat', 'Lon']])\n",
    "    sampled_df['Cluster_DBSCAN'] = dbscan.labels_\n",
    "    \n",
    "    # Count the number of points in each cluster\n",
    "    cluster_counts = sampled_df['Cluster_DBSCAN'].value_counts().to_dict()\n",
    "    # Map the counts back to the original dataframe\n",
    "    sampled_df['Cluster_Count'] = sampled_df['Cluster_DBSCAN'].map(cluster_counts)\n",
    "    \n",
    "    # Filter out outliers\n",
    "    df_no_outliers = sampled_df[sampled_df['Cluster_DBSCAN'] != -1]\n",
    "\n",
    "    # Add a column with the day name for all rows\n",
    "    df_no_outliers['Day_Name'] = day_name  # Note: This line modifies the DataFrame in-place, which might show a warning\n",
    "    \n",
    "    # Plotting\n",
    "    fig = px.scatter_mapbox(df_no_outliers, lat=\"Lat\", lon=\"Lon\", color=\"Cluster_Count\",\n",
    "                            hover_data=['Cluster_DBSCAN'],\n",
    "                            color_continuous_scale=custom_color_scale,\n",
    "                            size_max=15, zoom=10)\n",
    "    \n",
    "    fig.update_layout(mapbox_style=\"open-street-map\")\n",
    "    fig.update_layout(\n",
    "        mapbox_style=\"open-street-map\",\n",
    "        margin={\"r\":0, \"t\":0, \"l\":0, \"b\":0},\n",
    "        title={\n",
    "            'text': f\"{day_name}\",\n",
    "            'y':0.9,\n",
    "            'x':0.5,\n",
    "            'xanchor': 'center',\n",
    "            'yanchor': 'top',\n",
    "            'font': {\n",
    "                'size': 24,\n",
    "                'color': 'black',\n",
    "                'family': \"Arial, sans-serif\"\n",
    "                }\n",
    "            },\n",
    "        )\n",
    "\n",
    "    fig.show()"
   ]
  },
  {
   "cell_type": "markdown",
   "metadata": {},
   "source": [
    "# plot"
   ]
  },
  {
   "cell_type": "code",
   "execution_count": null,
   "metadata": {},
   "outputs": [],
   "source": [
    "process_and_plot_dbscan(morning_X, \"Morning\")"
   ]
  },
  {
   "cell_type": "code",
   "execution_count": null,
   "metadata": {},
   "outputs": [],
   "source": [
    "process_and_plot_dbscan(afternoon_X, \"Afternoon\")"
   ]
  },
  {
   "cell_type": "code",
   "execution_count": null,
   "metadata": {},
   "outputs": [],
   "source": [
    "process_and_plot_dbscan(early_evening_X, \"Early Evening\")"
   ]
  },
  {
   "cell_type": "code",
   "execution_count": null,
   "metadata": {},
   "outputs": [],
   "source": [
    "process_and_plot_dbscan(late_evening_X, \"Late Evening\")"
   ]
  },
  {
   "cell_type": "code",
   "execution_count": null,
   "metadata": {},
   "outputs": [],
   "source": [
    "process_and_plot_dbscan(night_X, \"Night\") "
   ]
  }
 ],
 "metadata": {
  "kernelspec": {
   "display_name": "base",
   "language": "python",
   "name": "python3"
  },
  "language_info": {
   "codemirror_mode": {
    "name": "ipython",
    "version": 3
   },
   "file_extension": ".py",
   "mimetype": "text/x-python",
   "name": "python",
   "nbconvert_exporter": "python",
   "pygments_lexer": "ipython3",
   "version": "3.11.7"
  }
 },
 "nbformat": 4,
 "nbformat_minor": 2
}
