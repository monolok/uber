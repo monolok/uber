{
 "cells": [
  {
   "cell_type": "code",
   "execution_count": 2,
   "metadata": {},
   "outputs": [],
   "source": [
    "from bertinizer import plot_data, analyze_correlation, find_outliers, dataset_overview_simplified, find_pca_num_only, explode_datetime_col, plot_optimal_k_kmeans\n",
    "import pandas as pd\n",
    "from sklearn.cluster import KMeans\n",
    "import plotly.express as px\n",
    "import numpy as np\n",
    "#from sklearn.metrics import silhouette_score\n",
    "from sklearn.cluster import DBSCAN"
   ]
  },
  {
   "cell_type": "markdown",
   "metadata": {},
   "source": [
    "# concat all dfs"
   ]
  },
  {
   "cell_type": "code",
   "execution_count": 10,
   "metadata": {},
   "outputs": [],
   "source": [
    "april_df = pd.read_csv('/Users/antoinebertin/Documents/jedha/full_stack/projects_full_stack/uber/uber-trip-data/uber-raw-data-apr14.csv')\n",
    "august_df = pd.read_csv('/Users/antoinebertin/Documents/jedha/full_stack/projects_full_stack/uber/uber-trip-data/uber-raw-data-aug14.csv')\n",
    "july_df = pd.read_csv('/Users/antoinebertin/Documents/jedha/full_stack/projects_full_stack/uber/uber-trip-data/uber-raw-data-jul14.csv')\n",
    "june_df = pd.read_csv('/Users/antoinebertin/Documents/jedha/full_stack/projects_full_stack/uber/uber-trip-data/uber-raw-data-jun14.csv')\n",
    "may_df = pd.read_csv('/Users/antoinebertin/Documents/jedha/full_stack/projects_full_stack/uber/uber-trip-data/uber-raw-data-may14.csv')\n",
    "sept_df = pd.read_csv('/Users/antoinebertin/Documents/jedha/full_stack/projects_full_stack/uber/uber-trip-data/uber-raw-data-sep14.csv')"
   ]
  },
  {
   "cell_type": "code",
   "execution_count": 11,
   "metadata": {},
   "outputs": [],
   "source": [
    "# List of your DataFrames\n",
    "dfs = [april_df, august_df, july_df, june_df, may_df, sept_df]  # Add more DataFrames as needed\n",
    "\n",
    "# Combine all DataFrames into a single DataFrame\n",
    "combined_df = pd.concat(dfs, ignore_index=True)"
   ]
  },
  {
   "cell_type": "code",
   "execution_count": 46,
   "metadata": {},
   "outputs": [
    {
     "data": {
      "text/html": [
       "<div>\n",
       "<style scoped>\n",
       "    .dataframe tbody tr th:only-of-type {\n",
       "        vertical-align: middle;\n",
       "    }\n",
       "\n",
       "    .dataframe tbody tr th {\n",
       "        vertical-align: top;\n",
       "    }\n",
       "\n",
       "    .dataframe thead th {\n",
       "        text-align: right;\n",
       "    }\n",
       "</style>\n",
       "<table border=\"1\" class=\"dataframe\">\n",
       "  <thead>\n",
       "    <tr style=\"text-align: right;\">\n",
       "      <th></th>\n",
       "      <th>Data Type</th>\n",
       "      <th>Non-Null Count</th>\n",
       "      <th>Unique Values</th>\n",
       "      <th>NaN Values</th>\n",
       "    </tr>\n",
       "  </thead>\n",
       "  <tbody>\n",
       "    <tr>\n",
       "      <th>Date/Time</th>\n",
       "      <td>datetime64[ns]</td>\n",
       "      <td>4534327</td>\n",
       "      <td>260093</td>\n",
       "      <td>0</td>\n",
       "    </tr>\n",
       "    <tr>\n",
       "      <th>Lat</th>\n",
       "      <td>float64</td>\n",
       "      <td>4534327</td>\n",
       "      <td>7092</td>\n",
       "      <td>0</td>\n",
       "    </tr>\n",
       "    <tr>\n",
       "      <th>Lon</th>\n",
       "      <td>float64</td>\n",
       "      <td>4534327</td>\n",
       "      <td>11453</td>\n",
       "      <td>0</td>\n",
       "    </tr>\n",
       "    <tr>\n",
       "      <th>Base</th>\n",
       "      <td>object</td>\n",
       "      <td>4534327</td>\n",
       "      <td>5</td>\n",
       "      <td>0</td>\n",
       "    </tr>\n",
       "    <tr>\n",
       "      <th>Hour</th>\n",
       "      <td>int32</td>\n",
       "      <td>4534327</td>\n",
       "      <td>24</td>\n",
       "      <td>0</td>\n",
       "    </tr>\n",
       "    <tr>\n",
       "      <th>Day</th>\n",
       "      <td>int32</td>\n",
       "      <td>4534327</td>\n",
       "      <td>31</td>\n",
       "      <td>0</td>\n",
       "    </tr>\n",
       "    <tr>\n",
       "      <th>DayOfWeek</th>\n",
       "      <td>int32</td>\n",
       "      <td>4534327</td>\n",
       "      <td>7</td>\n",
       "      <td>0</td>\n",
       "    </tr>\n",
       "    <tr>\n",
       "      <th>DayName</th>\n",
       "      <td>object</td>\n",
       "      <td>4534327</td>\n",
       "      <td>7</td>\n",
       "      <td>0</td>\n",
       "    </tr>\n",
       "  </tbody>\n",
       "</table>\n",
       "</div>"
      ],
      "text/plain": [
       "                Data Type  Non-Null Count  Unique Values  NaN Values\n",
       "Date/Time  datetime64[ns]         4534327         260093           0\n",
       "Lat               float64         4534327           7092           0\n",
       "Lon               float64         4534327          11453           0\n",
       "Base               object         4534327              5           0\n",
       "Hour                int32         4534327             24           0\n",
       "Day                 int32         4534327             31           0\n",
       "DayOfWeek           int32         4534327              7           0\n",
       "DayName            object         4534327              7           0"
      ]
     },
     "execution_count": 46,
     "metadata": {},
     "output_type": "execute_result"
    }
   ],
   "source": [
    "dataset_overview_simplified(combined_df)"
   ]
  },
  {
   "cell_type": "markdown",
   "metadata": {},
   "source": [
    "# create different dfs for time based analysis"
   ]
  },
  {
   "cell_type": "code",
   "execution_count": 21,
   "metadata": {},
   "outputs": [],
   "source": [
    "combined_df = explode_datetime_col(combined_df, 'Date/Time')"
   ]
  },
  {
   "cell_type": "markdown",
   "metadata": {},
   "source": [
    "## daily dfs"
   ]
  },
  {
   "cell_type": "code",
   "execution_count": 53,
   "metadata": {},
   "outputs": [],
   "source": [
    "# Initialize an empty dictionary to hold the DataFrames\n",
    "days_df = {}\n",
    "\n",
    "# Loop through each day of the week\n",
    "for day in range(7):  # 0 is Monday, 6 is Sunday\n",
    "    # Create a DataFrame for each day and store it in the dictionary with the day name as the key\n",
    "    days_df[day] = combined_df[combined_df['DayOfWeek'] == day]\n",
    "\n",
    "# Now you can access each day's DataFrame using the days_df dictionary\n",
    "mondays_df = days_df[0]\n",
    "tuesdays_df = days_df[1]\n",
    "wednesdays_df = days_df[2]\n",
    "thursdays_df = days_df[3]\n",
    "fridays_df = days_df[4]\n",
    "saturdays_df = days_df[5]\n",
    "sundays_df = days_df[6]"
   ]
  },
  {
   "cell_type": "markdown",
   "metadata": {},
   "source": [
    "## hourly based dfs "
   ]
  },
  {
   "cell_type": "code",
   "execution_count": 54,
   "metadata": {},
   "outputs": [],
   "source": [
    "# Morning DataFrame (7 AM to 12 PM)\n",
    "morning_df = combined_df[(combined_df['Hour'] >= 7) & (combined_df['Hour'] < 12)]\n",
    "# Afternoon DataFrame (12 PM to 6 PM)\n",
    "afternoon_df = combined_df[(combined_df['Hour'] >= 12) & (combined_df['Hour'] < 18)]\n",
    "# Early Evening DataFrame (6 PM to 9 PM)\n",
    "early_evening_df = combined_df[(combined_df['Hour'] >= 18) & (combined_df['Hour'] < 21)]\n",
    "# Late Evening DataFrame (9 PM to 1 AM) - Handling the transition to the next day\n",
    "late_evening_df = combined_df[(combined_df['Hour'] >= 21) | (combined_df['Hour'] < 1)]\n",
    "# Night DataFrame (1 AM to 7 AM)\n",
    "night_df = combined_df[(combined_df['Hour'] >= 1) & (combined_df['Hour'] < 7)]"
   ]
  },
  {
   "cell_type": "markdown",
   "metadata": {},
   "source": [
    "# save the dfs"
   ]
  },
  {
   "cell_type": "code",
   "execution_count": 55,
   "metadata": {},
   "outputs": [],
   "source": [
    "# Define a list of day names to use in file names\n",
    "day_names = ['Monday', 'Tuesday', 'Wednesday', 'Thursday', 'Friday', 'Saturday', 'Sunday']\n",
    "\n",
    "# Loop through each day of the week and save the corresponding DataFrame\n",
    "for day in range(7):  # 0 is Monday, 6 is Sunday\n",
    "    filename = f'/Users/antoinebertin/Documents/jedha/full_stack/projects_full_stack/uber/db/{day_names[day]}_df.csv'\n",
    "    days_df[day].to_csv(filename, index=False)"
   ]
  },
  {
   "cell_type": "code",
   "execution_count": 56,
   "metadata": {},
   "outputs": [],
   "source": [
    "# Save Morning DataFrame (7 AM to 12 PM)\n",
    "morning_df.to_csv('/Users/antoinebertin/Documents/jedha/full_stack/projects_full_stack/uber/db/morning_df.csv', index=False)\n",
    "\n",
    "# Save Afternoon DataFrame (12 PM to 6 PM)\n",
    "afternoon_df.to_csv('/Users/antoinebertin/Documents/jedha/full_stack/projects_full_stack/uber/db/afternoon_df.csv', index=False)\n",
    "\n",
    "# Save Early Evening DataFrame (6 PM to 9 PM)\n",
    "early_evening_df.to_csv('/Users/antoinebertin/Documents/jedha/full_stack/projects_full_stack/uber/db/early_evening_df.csv', index=False)\n",
    "\n",
    "# Save Late Evening DataFrame (9 PM to 1 AM)\n",
    "late_evening_df.to_csv('/Users/antoinebertin/Documents/jedha/full_stack/projects_full_stack/uber/db/late_evening_df.csv', index=False)\n",
    "\n",
    "# Save Night DataFrame (1 AM to 7 AM)\n",
    "night_df.to_csv('/Users/antoinebertin/Documents/jedha/full_stack/projects_full_stack/uber/db/night_df.csv', index=False)\n"
   ]
  },
  {
   "cell_type": "code",
   "execution_count": 57,
   "metadata": {},
   "outputs": [],
   "source": [
    "combined_df.to_csv('/Users/antoinebertin/Documents/jedha/full_stack/projects_full_stack/uber/db/combined_df.csv', index=False)"
   ]
  },
  {
   "cell_type": "markdown",
   "metadata": {},
   "source": [
    "# remove the old dfs"
   ]
  },
  {
   "cell_type": "code",
   "execution_count": 58,
   "metadata": {},
   "outputs": [
    {
     "name": "stdout",
     "output_type": "stream",
     "text": [
      "Deleted /Users/antoinebertin/Documents/jedha/full_stack/projects_full_stack/uber/uber-trip-data/uber-raw-data-apr14.csv\n",
      "Deleted /Users/antoinebertin/Documents/jedha/full_stack/projects_full_stack/uber/uber-trip-data/uber-raw-data-aug14.csv\n",
      "Deleted /Users/antoinebertin/Documents/jedha/full_stack/projects_full_stack/uber/uber-trip-data/uber-raw-data-jul14.csv\n",
      "Deleted /Users/antoinebertin/Documents/jedha/full_stack/projects_full_stack/uber/uber-trip-data/uber-raw-data-jun14.csv\n",
      "Deleted /Users/antoinebertin/Documents/jedha/full_stack/projects_full_stack/uber/uber-trip-data/uber-raw-data-may14.csv\n",
      "Deleted /Users/antoinebertin/Documents/jedha/full_stack/projects_full_stack/uber/uber-trip-data/uber-raw-data-sep14.csv\n"
     ]
    }
   ],
   "source": [
    "import os\n",
    "\n",
    "# List of file paths to be deleted\n",
    "files_to_delete = [\n",
    "    '/Users/antoinebertin/Documents/jedha/full_stack/projects_full_stack/uber/uber-trip-data/uber-raw-data-apr14.csv',\n",
    "    '/Users/antoinebertin/Documents/jedha/full_stack/projects_full_stack/uber/uber-trip-data/uber-raw-data-aug14.csv',\n",
    "    '/Users/antoinebertin/Documents/jedha/full_stack/projects_full_stack/uber/uber-trip-data/uber-raw-data-jul14.csv',\n",
    "    '/Users/antoinebertin/Documents/jedha/full_stack/projects_full_stack/uber/uber-trip-data/uber-raw-data-jun14.csv',\n",
    "    '/Users/antoinebertin/Documents/jedha/full_stack/projects_full_stack/uber/uber-trip-data/uber-raw-data-may14.csv',\n",
    "    '/Users/antoinebertin/Documents/jedha/full_stack/projects_full_stack/uber/uber-trip-data/uber-raw-data-sep14.csv'\n",
    "]\n",
    "\n",
    "# Loop through the list and delete each file\n",
    "for file_path in files_to_delete:\n",
    "    try:\n",
    "        os.remove(file_path)\n",
    "        print(f\"Deleted {file_path}\")\n",
    "    except OSError as e:\n",
    "        print(f\"Error: {file_path} : {e.strerror}\")"
   ]
  }
 ],
 "metadata": {
  "kernelspec": {
   "display_name": "base",
   "language": "python",
   "name": "python3"
  },
  "language_info": {
   "codemirror_mode": {
    "name": "ipython",
    "version": 3
   },
   "file_extension": ".py",
   "mimetype": "text/x-python",
   "name": "python",
   "nbconvert_exporter": "python",
   "pygments_lexer": "ipython3",
   "version": "3.11.7"
  }
 },
 "nbformat": 4,
 "nbformat_minor": 2
}
